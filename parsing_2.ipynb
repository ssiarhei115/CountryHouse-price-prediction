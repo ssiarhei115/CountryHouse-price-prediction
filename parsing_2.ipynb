{
 "cells": [
  {
   "cell_type": "code",
   "execution_count": 2,
   "metadata": {},
   "outputs": [],
   "source": [
    "from selenium import webdriver\n",
    "from selenium.webdriver.common.by import By\n",
    "from selenium.webdriver.common.keys import Keys\n",
    "from selenium.webdriver.chrome.service import Service\n",
    "import pandas as pd\n",
    "import time\n",
    "from bs4 import BeautifulSoup\n",
    "from selenium.webdriver.support.ui import WebDriverWait\n",
    "from selenium.webdriver.support import expected_conditions as EC\n",
    "import requests\n",
    "from selenium.common.exceptions import TimeoutException\n",
    "import random\n",
    "import re"
   ]
  },
  {
   "cell_type": "code",
   "execution_count": 3,
   "metadata": {},
   "outputs": [
    {
     "name": "stdout",
     "output_type": "stream",
     "text": [
      "Мядельский ['54.5232', '26.5619']\n",
      "['54.5232', '26.5619']\n"
     ]
    }
   ],
   "source": [
    "def get_district_details(district_name):\n",
    "    service = Service(executable_path=r'/usr/bin/chromedriver')\n",
    "    options = webdriver.ChromeOptions()\n",
    "    #options.add_argument('--headless') #It allows users to run automated scripts in headless mode, meaning that the browser window wouldn’t be visible. \n",
    "    driver = webdriver.Chrome(service=service, options=options)\n",
    "    url = 'https://google.com'#\"https://realt.by/sale/dachi/?page=1\"\n",
    "    headers = ({'User-Agent':'Mozilla/5.0 (X11; Ubuntu; Linux x86_64; rv:124.0) Gecko/20100101 Firefox/124.0', 'Accept-Language':'en-US, en;q=0.5'})\n",
    "    driver.get(url);\n",
    "    time.sleep(1)\n",
    "    #input_box = WebDriverWait(driver, 1).until(EC.element_to_be_clickable((By.CSS_SELECTOR, \"textarea\")))\n",
    "    input_box = driver.find_element(By.CSS_SELECTOR, \"textarea\")\n",
    "    input_box.send_keys(district_name +' район, Беларусь')\n",
    "    input_box.send_keys(Keys.ENTER)\n",
    "    time.sleep(1)\n",
    "\n",
    "    wiki_link = driver.find_element(By.XPATH,\"//a[contains(@href, 'https://ru.wikipedia.org')]\")\n",
    "    wiki_link.click()\n",
    "\n",
    "    soup = BeautifulSoup(driver.page_source, 'html.parser')\n",
    "    result = soup.find(\"span\", class_='coordinates plainlinks nourlexpansion').find(\"a\").text\n",
    "    result = re.findall(r\"(\\d{2}\\°\\d{2,}\\′*\\d*).\", result)\n",
    "    result = [x.replace('°','.') for x in result]\n",
    "    result = [x.replace('′','') for x in result]\n",
    "    \n",
    "    driver.quit()\n",
    "    print(district_name, result)\n",
    "    return result\n",
    "\n",
    "print(get_district_details('Мядельский'))\n"
   ]
  }
 ],
 "metadata": {
  "kernelspec": {
   "display_name": "Python 3",
   "language": "python",
   "name": "python3"
  },
  "language_info": {
   "codemirror_mode": {
    "name": "ipython",
    "version": 3
   },
   "file_extension": ".py",
   "mimetype": "text/x-python",
   "name": "python",
   "nbconvert_exporter": "python",
   "pygments_lexer": "ipython3",
   "version": "3.10.12"
  }
 },
 "nbformat": 4,
 "nbformat_minor": 2
}
