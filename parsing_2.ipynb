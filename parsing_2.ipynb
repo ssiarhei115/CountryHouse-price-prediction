{
 "cells": [
  {
   "cell_type": "code",
   "execution_count": 67,
   "metadata": {},
   "outputs": [],
   "source": [
    "from selenium import webdriver\n",
    "from selenium.webdriver.common.by import By\n",
    "from selenium.webdriver.common.keys import Keys\n",
    "from selenium.webdriver.chrome.service import Service\n",
    "import pandas as pd\n",
    "import time\n",
    "from bs4 import BeautifulSoup\n",
    "from selenium.webdriver.support.ui import WebDriverWait\n",
    "from selenium.webdriver.support import expected_conditions as EC\n",
    "import requests\n",
    "from selenium.common.exceptions import TimeoutException\n",
    "import random\n",
    "import re"
   ]
  },
  {
   "cell_type": "code",
   "execution_count": 72,
   "metadata": {},
   "outputs": [],
   "source": [
    "def get_district_details(district_name):\n",
    "    service = Service(executable_path=r'/usr/bin/chromedriver')\n",
    "    options = webdriver.ChromeOptions()\n",
    "    options.add_argument('--headless') #It allows users to run automated scripts in headless mode, meaning that the browser window wouldn’t be visible. \n",
    "    driver = webdriver.Chrome(service=service, options=options)\n",
    "    url = 'https://google.com'#\"https://realt.by/sale/dachi/?page=1\"\n",
    "    headers = ({'User-Agent':'Mozilla/5.0 (X11; Ubuntu; Linux x86_64; rv:124.0) Gecko/20100101 Firefox/124.0', 'Accept-Language':'en-US, en;q=0.5'})\n",
    "    driver.get(url);\n",
    "    time.sleep(1)\n",
    "    #input_box = WebDriverWait(driver, 1).until(EC.element_to_be_clickable((By.CSS_SELECTOR, \"textarea\")))\n",
    "    input_box = driver.find_element(By.CSS_SELECTOR, \"textarea\")\n",
    "    input_box.send_keys(district_name)\n",
    "    input_box.send_keys(Keys.ENTER)\n",
    "    time.sleep(1)\n",
    "\n",
    "    wiki_link = driver.find_element(By.XPATH,\"//a[contains(@href, 'https://ru.wikipedia.org')]\")\n",
    "    wiki_link.click()\n",
    "\n",
    "    def get_soup(page):\n",
    "        soup = BeautifulSoup(page, 'html.parser')\n",
    "        res = soup.find(\"span\", class_='coordinates plainlinks nourlexpansion').find(\"a\").text\n",
    "        res = re.findall(r\"(\\d{2}\\°\\d{2,}\\′*\\d*).\", res)\n",
    "        res = [x.replace('°','.') for x in res]\n",
    "        res = [x.replace('′','') for x in res]\n",
    "        return (res[0],res[1])\n",
    "    \n",
    "    res_1 = get_soup(driver.page_source)\n",
    "\n",
    "    try:\n",
    "        soup = BeautifulSoup(driver.page_source, 'html.parser')\n",
    "        res = soup.find_all('tr')\n",
    "        for i in res:\n",
    "            if i.find('th') and i.find('th').text == 'Адм. центр':\n",
    "                wiki = i.find('a').text\n",
    "        wiki_link2 = driver.find_element(By.LINK_TEXT, wiki)\n",
    "        wiki_link2.click()\n",
    "        res_2 = get_soup(driver.page_source)\n",
    "    except:\n",
    "        res_2 = res_1\n",
    "        \n",
    "\n",
    "    driver.quit()\n",
    "    \n",
    "    return [(float(res_1[0]), float(res_1[1])), (float(res_2[0]), float(res_2[1]))]\n",
    "\n",
    "#res = get_district_details('г.Минск')\n",
    "#res\n",
    "\n",
    "\n"
   ]
  },
  {
   "cell_type": "code",
   "execution_count": 69,
   "metadata": {},
   "outputs": [],
   "source": [
    "\n",
    "page = requests.get('https://ru.wikipedia.org/wiki/%D0%93%D0%BE%D0%BC%D0%B5%D0%BB%D1%8C%D1%81%D0%BA%D0%B8%D0%B9_%D1%80%D0%B0%D0%B9%D0%BE%D0%BD')\n",
    "soup = BeautifulSoup(page.content, 'html.parser')\n",
    "#res = soup.find('table')\n",
    "res = soup.find_all('tr')\n",
    "for i in res:\n",
    "    if i.find('th') and i.find('th').text == 'Адм. центр':\n",
    "        wiki_link2 = i.find('a').text"
   ]
  }
 ],
 "metadata": {
  "kernelspec": {
   "display_name": "Python 3",
   "language": "python",
   "name": "python3"
  },
  "language_info": {
   "codemirror_mode": {
    "name": "ipython",
    "version": 3
   },
   "file_extension": ".py",
   "mimetype": "text/x-python",
   "name": "python",
   "nbconvert_exporter": "python",
   "pygments_lexer": "ipython3",
   "version": "3.10.12"
  }
 },
 "nbformat": 4,
 "nbformat_minor": 2
}
